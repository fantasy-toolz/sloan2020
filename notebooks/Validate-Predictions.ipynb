{
 "cells": [
  {
   "cell_type": "markdown",
   "metadata": {},
   "source": [
    "# Check The Ranking Quality"
   ]
  },
  {
   "cell_type": "code",
   "execution_count": 1,
   "metadata": {},
   "outputs": [],
   "source": [
    "# standard imports\n",
    "import numpy as np\n",
    "import os\n",
    "\n",
    "# plotting tools\n",
    "import matplotlib.pyplot as plt\n",
    "%matplotlib inline\n",
    "\n",
    "# data management\n",
    "import pandas as pd\n",
    "\n",
    "# import optimizer\n",
    "from scipy.optimize import curve_fit\n",
    "\n",
    "# standard scrapers\n",
    "import hittingpredictor as hp\n",
    "import pitchingpredictor as pp\n",
    "\n"
   ]
  },
  {
   "cell_type": "code",
   "execution_count": 2,
   "metadata": {},
   "outputs": [],
   "source": [
    "# set up the comparator\n",
    "def gaussian(x, a, mu,sigma, c):\n",
    "    \"\"\"simple gaussian\"\"\"\n",
    "    return a * np.exp(-1.*(x-mu)**2./sigma**2.) + c"
   ]
  },
  {
   "cell_type": "code",
   "execution_count": 3,
   "metadata": {},
   "outputs": [],
   "source": [
    "# load the predictions for the 2019 season\n",
    "BattingProjections2019 = np.genfromtxt('2019Predictions/batter_predictions021819.csv',\\\n",
    "                  dtype=[('Name','S20'),('PA','i4'),('AVG','f4'),('eAVG','f4'),\\\n",
    "                        ('HR','i4'),('eHR','i4'),('R','i4'),('eR','i4'),\\\n",
    "                        ('RBI','i4'),('eRBI','i4'),('SB','i4'),('eSB','i4'),\\\n",
    "                        ('Rank','i4')],\\\n",
    "                  delimiter=',',skip_header=1)\n",
    "\n",
    "PitchingProjections2019 = np.genfromtxt('2019Predictions/pitcher_predictions020819.csv',\\\n",
    "                 dtype=[('Name','S20'),('IP','i4'),('SO','i4'),('eSO','i4'),\\\n",
    "                        ('ERA','f4'),('eERA','f4'),('WHIP','f4'),('eWHIP','f4'),\\\n",
    "                        ('W','i4'),('eW','i4'),('S','i4'),('eS','i4'),\\\n",
    "                        ('Rank','i4')],\\\n",
    "                  delimiter=',',skip_header=1)\n",
    "\n"
   ]
  },
  {
   "cell_type": "code",
   "execution_count": 4,
   "metadata": {},
   "outputs": [],
   "source": [
    "# load 2019 statistics\n",
    "Batting2019 = hp.scrape_year(year='2019',cat='bat',verbose=0)\n",
    "Pitching2019 = pp.scrape_year(year='2019',cat='pit',verbose=0)\n",
    "\n"
   ]
  },
  {
   "cell_type": "code",
   "execution_count": 5,
   "metadata": {},
   "outputs": [],
   "source": [
    "# clean up two pitching categories\n",
    "Pitching2019['WHIP'] = (Pitching2019['BB'].astype('float')+Pitching2019['H'].astype('float'))/(Pitching2019['IP'].astype('float')+.1)\n",
    "Pitching2019['S'] = Pitching2019['SV']\n",
    "\n"
   ]
  },
  {
   "cell_type": "code",
   "execution_count": 6,
   "metadata": {},
   "outputs": [],
   "source": [
    "# definitions to match the results\n",
    "\n",
    "def match_hitting_results(pl,RealStats,ProjectedStats):\n",
    "    '''match the results from the hitting year, return sigmas\n",
    "    \n",
    "    certain categories must match in name...\n",
    "    '''\n",
    "    plr = np.where(RealStats['Name']==pl)[0][0]\n",
    "    plp = np.where(np.array([x.decode().rstrip() for x in ProjectedStats['Name']])==pl)[0][0]\n",
    "\n",
    "    compstats = ['AVG','HR','R','RBI','SB']\n",
    "    \n",
    "    sigmas = np.zeros(len(compstats))\n",
    "    \n",
    "    for istat,stat in enumerate(compstats):\n",
    "        sigmas[istat] = (float(RealStats[stat][plr])-float(ProjectedStats[stat][plp]))/float(ProjectedStats['e'+stat][plp])\n",
    "        \n",
    "    return sigmas\n",
    "    \n",
    "\n",
    "\n",
    "def match_pitching_results(pl,RealStats,ProjectedStats):\n",
    "    '''match the results from the hitting year, return sigmas\n",
    "    \n",
    "    certain categories must match in name...\n",
    "    '''\n",
    "    plr = np.where(RealStats['Name']==pl)[0][0]\n",
    "    plp = np.where(np.array([x.decode().rstrip() for x in ProjectedStats['Name']])==pl)[0][0]\n",
    "\n",
    "    compstats = ['ERA','WHIP','S','W','SO']\n",
    "        \n",
    "    sigmas = np.zeros(len(compstats))\n",
    "    \n",
    "    for istat,stat in enumerate(compstats):\n",
    "        sigmas[istat] = (float(RealStats[stat][plr])-float(ProjectedStats[stat][plp]))/float(ProjectedStats['e'+stat][plp]+0.001)\n",
    "        \n",
    "    return sigmas\n",
    "    \n",
    "\n",
    "\n"
   ]
  },
  {
   "cell_type": "markdown",
   "metadata": {},
   "source": [
    "## Part 1: Hitters"
   ]
  },
  {
   "cell_type": "code",
   "execution_count": 7,
   "metadata": {},
   "outputs": [],
   "source": [
    "\n",
    "nplayers = len(BattingProjections2019['Name'])\n",
    "sigma_stats = np.zeros([nplayers,5])\n",
    "\n",
    "for pl in range(0,nplayers):\n",
    "\n",
    "    try:\n",
    "        sigmas = match_hitting_results(BattingProjections2019['Name'][pl].decode().rstrip(),Batting2019,BattingProjections2019)\n",
    "        sigma_stats[pl] = np.array(sigmas)\n",
    "    except:\n",
    "        #print('Failed for ',BattingProjections2019['Name'][pl].decode().rstrip())\n",
    "        sigma_stats[pl] = np.array([np.nan,np.nan,np.nan,np.nan,np.nan])\n"
   ]
  },
  {
   "cell_type": "code",
   "execution_count": 8,
   "metadata": {},
   "outputs": [
    {
     "name": "stdout",
     "output_type": "stream",
     "text": [
      "Mean= -0.20490130856936728 Sigma= 1.233790942407728\n",
      "Mean= 0.3512337645656141 Sigma= 3.360712695950445\n",
      "Mean= -0.06274611954268117 Sigma= 4.55766286709475\n",
      "Mean= 0.11522542408051625 Sigma= 5.01718055764608\n",
      "Mean= -0.7162619223452049 Sigma= 1.5991924168912848\n"
     ]
    },
    {
     "data": {
      "image/png": "[encoded data removed]",
      "text/plain": [
       "<Figure size 720x216 with 5 Axes>"
      ]
     },
     "metadata": {
      "needs_background": "light"
     },
     "output_type": "display_data"
    }
   ],
   "source": [
    "# how can we check the uncertainties?\n",
    "# check how many sigma off we are on average\n",
    "\n",
    "stats = ['AVG','HR','R','RBI','SB']\n",
    "\n",
    "\n",
    "\n",
    "\n",
    "fig = plt.figure(figsize=(10,3))\n",
    "\n",
    "PDict = {}\n",
    "for istat,stat in enumerate(stats):\n",
    "\n",
    "    dx = 0.175\n",
    "    xstart = istat*(dx+0.01)+0.06\n",
    "    ax = fig.add_axes([xstart,0.2,dx,0.7])\n",
    "\n",
    "    a,b = np.histogram(sigma_stats[:,istat],bins=np.linspace(-9.,9.,18))\n",
    "\n",
    "    popt, pcov = curve_fit(gaussian,b[0:-1]+0.5*(b[1]-b[0]),a/np.sum(a))\n",
    "    print('Mean=',popt[1],'Sigma=',popt[2])\n",
    "\n",
    "    ax.plot(b[0:-1]+0.5*(b[1]-b[0]),a/np.sum(a),color='red',drawstyle='steps-mid')\n",
    "\n",
    "    xvals = np.linspace(b[0]+0.5*(b[1]-b[0]),b[-1]+0.5*(b[1]-b[0]),200)\n",
    "    ax.plot(xvals,gaussian(xvals,*popt),color='black')\n",
    "\n",
    "    ax.text(0.,0.5,'{0}\\n$\\mu$={1:3.2f}, $\\sigma=${2:3.2f}'.format(stat,popt[1],popt[2]),\\\n",
    "            color='black',ha='center',va='bottom',bbox=dict(facecolor='white', alpha=1.0),size=8)\n",
    "\n",
    "    if istat==2:\n",
    "        ax.set_xlabel('$\\sigma$ deviation',size=16)\n",
    "        \n",
    "    if istat==0:\n",
    "        ax.set_ylabel('frequency',size=16)\n",
    "    else:\n",
    "        ax.set_yticklabels(())\n",
    "        \n",
    "    ax.tick_params(axis=\"y\",which='both',direction=\"in\")\n",
    "    ax.tick_params(axis=\"x\",which='both',direction=\"in\",pad=5)\n",
    "    ax.yaxis.set_ticks_position('both')\n",
    "    ax.xaxis.set_ticks_position('both')\n",
    "\n",
    "    ax.axis([-6.,6.,0.,0.5])\n",
    "\n",
    "\n",
    "#plt.savefig('/Users/mpetersen/Desktop/battingpredictions.png',dpi=300)"
   ]
  },
  {
   "cell_type": "markdown",
   "metadata": {},
   "source": [
    "## Part 2: Evaluate Pitchers"
   ]
  },
  {
   "cell_type": "code",
   "execution_count": 9,
   "metadata": {},
   "outputs": [],
   "source": [
    "\n",
    "nplayers = len(PitchingProjections2019['Name'])\n",
    "sigma_stats = np.zeros([nplayers,5])\n",
    "\n",
    "for pl in range(0,nplayers):\n",
    "\n",
    "    try:\n",
    "        sigmas = match_pitching_results(PitchingProjections2019['Name'][pl].decode().rstrip(),Pitching2019,PitchingProjections2019)\n",
    "        sigma_stats[pl] = np.array(sigmas)\n",
    "    except:\n",
    "        # print if diagnostic desired\n",
    "        #print('Failed for ',PitchingProjections2019['Name'][pl].decode().rstrip())\n",
    "        sigma_stats[pl] = np.array([np.nan,np.nan,np.nan,np.nan,np.nan])\n",
    "\n"
   ]
  },
  {
   "cell_type": "code",
   "execution_count": 10,
   "metadata": {},
   "outputs": [
    {
     "name": "stdout",
     "output_type": "stream",
     "text": [
      "Mean= 0.31994778981060684 Sigma= 2.3728706285464045\n",
      "Mean= 0.03447836070133934 Sigma= 1.4454428249289804\n",
      "Mean= 0.20707750535669625 Sigma= -0.3087439688788339\n",
      "Mean= 0.2675664603296404 Sigma= 0.917032487687391\n",
      "Mean= -0.4171754784339829 Sigma= 4.745772448645458\n"
     ]
    },
    {
     "data": {
      "image/png": "[encoded data removed]",
      "text/plain": [
       "<Figure size 720x216 with 5 Axes>"
      ]
     },
     "metadata": {
      "needs_background": "light"
     },
     "output_type": "display_data"
    }
   ],
   "source": [
    "# how can we check the uncertainties?\n",
    "# check how many sigma off we are on average\n",
    "\n",
    "stats = ['ERA','WHIP','S','W','SO']\n",
    "\n",
    "\n",
    "\n",
    "\n",
    "fig = plt.figure(figsize=(10,3))\n",
    "\n",
    "PDict = {}\n",
    "for istat,stat in enumerate(stats):\n",
    "\n",
    "    dx = 0.175\n",
    "    xstart = istat*(dx+0.01)+0.06\n",
    "    ax = fig.add_axes([xstart,0.2,dx,0.7])\n",
    "\n",
    "    a,b = np.histogram(sigma_stats[:,istat],bins=np.linspace(-9.,9.,18))\n",
    "\n",
    "    popt, pcov = curve_fit(gaussian,b[0:-1]+0.5*(b[1]-b[0]),a/np.sum(a))\n",
    "    print('Mean=',popt[1],'Sigma=',popt[2])\n",
    "\n",
    "    ax.plot(b[0:-1]+0.5*(b[1]-b[0]),a/np.sum(a),color='red',drawstyle='steps-mid')\n",
    "\n",
    "    xvals = np.linspace(b[0]+0.5*(b[1]-b[0]),b[-1]+0.5*(b[1]-b[0]),200)\n",
    "    ax.plot(xvals,gaussian(xvals,*popt),color='black')\n",
    "\n",
    "    ax.text(0.,0.65,'{0}\\n$\\mu$={1:3.2f}, $\\sigma=${2:3.2f}'.format(stat,popt[1],popt[2]),\\\n",
    "            color='black',ha='center',va='bottom',bbox=dict(facecolor='white', alpha=1.0),size=8)\n",
    "\n",
    "    if istat==2:\n",
    "        ax.set_xlabel('$\\sigma$ deviation',size=16)\n",
    "        \n",
    "    if istat==0:\n",
    "        ax.set_ylabel('frequency',size=16)\n",
    "    else:\n",
    "        ax.set_yticklabels(())\n",
    "        \n",
    "    ax.tick_params(axis=\"y\",which='both',direction=\"in\")\n",
    "    ax.tick_params(axis=\"x\",which='both',direction=\"in\",pad=5)\n",
    "    ax.yaxis.set_ticks_position('both')\n",
    "    ax.xaxis.set_ticks_position('both')\n",
    "\n",
    "    ax.axis([-6.,6.,0.,0.65])\n",
    "\n",
    "\n",
    "#plt.savefig('/Users/mpetersen/Desktop/battingpredictions.png',dpi=300)"
   ]
  },
  {
   "cell_type": "code",
   "execution_count": null,
   "metadata": {},
   "outputs": [],
   "source": []
  }
 ],
 "metadata": {
  "kernelspec": {
   "display_name": "Python 3",
   "language": "python",
   "name": "python3"
  },
  "language_info": {
   "codemirror_mode": {
    "name": "ipython",
    "version": 3
   },
   "file_extension": ".py",
   "mimetype": "text/x-python",
   "name": "python",
   "nbconvert_exporter": "python",
   "pygments_lexer": "ipython3",
   "version": "3.6.8"
  }
 },
 "nbformat": 4,
 "nbformat_minor": 2
}
