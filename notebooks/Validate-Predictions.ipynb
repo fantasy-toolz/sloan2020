{
 "cells": [
  {
   "cell_type": "markdown",
   "metadata": {},
   "source": [
    "# Check The Ranking Quality"
   ]
  },
  {
   "cell_type": "code",
   "execution_count": 1,
   "metadata": {},
   "outputs": [],
   "source": [
    "# standard imports\n",
    "import numpy as np\n",
    "import os\n",
    "\n",
    "# plotting tools\n",
    "import matplotlib.pyplot as plt\n",
    "%matplotlib inline\n",
    "\n",
    "# data management\n",
    "import pandas as pd\n",
    "\n",
    "# import optimizer\n",
    "from scipy.optimize import curve_fit\n",
    "\n",
    "\n",
    "# ipython reload capabilities for edits to external code\n",
    "%load_ext autoreload\n",
    "%autoreload 2\n",
    "\n",
    "# standard scrapers\n",
    "import hittingpredictor as hp\n",
    "import pitchingpredictor as pp\n",
    "\n"
   ]
  },
  {
   "cell_type": "code",
   "execution_count": 2,
   "metadata": {},
   "outputs": [],
   "source": [
    "import matplotlib as mpl\n",
    "mpl.rcParams['xtick.major.size'] = 0\n",
    "mpl.rcParams['ytick.major.size'] = 0\n",
    "mpl.rcParams['axes.spines.right'] = False\n",
    "mpl.rcParams['axes.spines.top'] = False\n",
    "mpl.rcParams['axes.spines.left'] = False\n",
    "mpl.rcParams['font.weight'] = 'medium'\n",
    "mpl.rcParams['xtick.labelsize'] = 10\n",
    "mpl.rcParams['ytick.labelsize'] = 10\n",
    "\n",
    "from matplotlib import font_manager as fm, rcParams\n",
    "import matplotlib.pyplot as plt\n",
    "\n",
    "fpath = os.path.join(rcParams[\"datapath\"], '/Users/mpetersen/Downloads/Roboto_Condensed/RobotoCondensed-Regular.ttf')\n",
    "prop = fm.FontProperties(fname=fpath)\n",
    "fname = os.path.split(fpath)[1]\n",
    "\n",
    "plt.rcParams['font.family'] = 'sans-serif'\n",
    "plt.rcParams['font.sans-serif'] = prop.get_name()\n",
    "plt.rcParams['font.weight'] = 'medium'\n",
    "\n",
    "\n",
    "\n",
    "\n"
   ]
  },
  {
   "cell_type": "code",
   "execution_count": 3,
   "metadata": {},
   "outputs": [],
   "source": [
    "# set up the comparator\n",
    "def gaussian(x, a, mu,sigma):\n",
    "    \"\"\"simple gaussian\"\"\"\n",
    "    return a * np.exp(-1.*(x-mu)**2./sigma**2.)"
   ]
  },
  {
   "cell_type": "code",
   "execution_count": 4,
   "metadata": {},
   "outputs": [],
   "source": [
    "# load the predictions for the 2019 season\n",
    "BattingProjections2019 = np.genfromtxt('2019Predictions/batter_predictions021819.csv',\\\n",
    "                  dtype=[('Name','S20'),('PA','i4'),('AVG','f4'),('eAVG','f4'),\\\n",
    "                        ('HR','i4'),('eHR','i4'),('R','i4'),('eR','i4'),\\\n",
    "                        ('RBI','i4'),('eRBI','i4'),('SB','i4'),('eSB','i4'),\\\n",
    "                        ('Rank','i4')],\\\n",
    "                  delimiter=',',skip_header=1)\n",
    "\n",
    "PitchingProjections2019 = np.genfromtxt('2019Predictions/pitcher_predictions020819.csv',\\\n",
    "                 dtype=[('Name','S20'),('IP','i4'),('SO','i4'),('eSO','i4'),\\\n",
    "                        ('ERA','f4'),('eERA','f4'),('WHIP','f4'),('eWHIP','f4'),\\\n",
    "                        ('W','i4'),('eW','i4'),('S','i4'),('eS','i4'),\\\n",
    "                        ('Rank','i4')],\\\n",
    "                  delimiter=',',skip_header=1)\n",
    "\n"
   ]
  },
  {
   "cell_type": "code",
   "execution_count": 5,
   "metadata": {},
   "outputs": [],
   "source": [
    "# load 2019 statistics\n",
    "Batting2019 = hp.scrape_year(year='2019',cat='bat',verbose=0)\n",
    "Pitching2019 = pp.scrape_year(year='2019',cat='pit',verbose=0)\n",
    "\n"
   ]
  },
  {
   "cell_type": "code",
   "execution_count": 6,
   "metadata": {},
   "outputs": [],
   "source": [
    "# clean up two pitching categories\n",
    "Pitching2019['WHIP'] = (Pitching2019['BB'].astype('float')+Pitching2019['H'].astype('float'))/(Pitching2019['IP'].astype('float')+.1)\n",
    "Pitching2019['S'] = Pitching2019['SV']\n",
    "\n"
   ]
  },
  {
   "cell_type": "markdown",
   "metadata": {},
   "source": [
    "## Part 2: Evaluate Pitchers\n",
    "\n",
    "### Generate Pitching Predictions for the 2019 season"
   ]
  },
  {
   "cell_type": "code",
   "execution_count": 7,
   "metadata": {},
   "outputs": [
    {
     "name": "stdout",
     "output_type": "stream",
     "text": [
      "2017\n",
      "2018\n",
      "2019\n"
     ]
    }
   ],
   "source": [
    "\n",
    "# which years are we interested in querying?\n",
    "years = range(2019-2, 2019+1)\n",
    "\n",
    "\n",
    "year_dfs = []\n",
    "\n",
    "for year in years:\n",
    "\n",
    "    print(year)\n",
    "    df = pp.scrape_year(year=year,cat='pit',verbose=0)\n",
    "    year_dfs.append(df)\n",
    "\n",
    "# concatenate results from all years\n",
    "all_year_data = year_dfs[0]\n",
    "for year in year_dfs[1:]:\n",
    "    all_year_data = pd.concat([all_year_data, year])\n",
    "    \n",
    "\n",
    "nclusters = 11\n",
    "\n",
    "year_df,df,stereotype_df,cluster_centroid_df,transform = pp.compute_cluster_pitching(all_year_data,years,nclusters,min_ip=10,verbose=0)\n",
    "\n",
    "\n",
    "# new tunings for pitchers...\n",
    "year_weights = {}\n",
    "year_weights[2017.0] = 0.12\n",
    "year_weights[2018.0] = 0.33\n",
    "year_weights[2019.0] = 0.55\n",
    "\n",
    "# penalty if missing\n",
    "year_weights_penalty = {}\n",
    "year_weights_penalty[2017.0] = 0.00\n",
    "year_weights_penalty[2018.0] = 0.05\n",
    "year_weights_penalty[2019.0] = -0.05\n",
    "\n",
    "\n",
    "regression_factor = 0.8\n",
    "err_regression_factor = 1.2\n",
    "\n",
    "\n",
    "\n"
   ]
  },
  {
   "cell_type": "code",
   "execution_count": 8,
   "metadata": {},
   "outputs": [],
   "source": [
    "\n",
    "# make predictions for everyone who pitched in 2019\n",
    "pls = Pitching2019['Name']\n",
    "\n",
    "stattest = ['HR', 'ER', 'BB', 'H', 'SO']\n",
    "\n",
    "siglist = np.zeros([np.array(pls).size,np.array(stattest).size])\n",
    "\n",
    "for ipl,pl in enumerate(pls):\n",
    "    try:\n",
    "        Stats = pp.generate_player_prediction(pl,df,cluster_centroid_df,\\\n",
    "                               estimated_ips=1,\\\n",
    "                               year_weights=year_weights,\\\n",
    "                               year_weights_penalty=year_weights_penalty,\\\n",
    "                               regression_factor=regression_factor,err_regression_factor=err_regression_factor,\\\n",
    "                               AgeDict={},verbose=0,return_stats=True)\n",
    "        \n",
    "        \n",
    "        \n",
    "        for istat,stat in enumerate(stattest):\n",
    "            \n",
    "            # reset error bars manually\n",
    "            #if stat=='BB': Stats['e'+stat]*=0.4\n",
    "            #if stat=='HR': Stats['e'+stat]*=0.4\n",
    "                \n",
    "            siglist[ipl,istat] = (Stats[stat]-\\\n",
    "                                  float(Pitching2019[stat][Pitching2019['Name']==pl])/float(Pitching2019['IP'][Pitching2019['Name']==pl]))\\\n",
    "            /Stats['e'+stat]\n",
    "            \n",
    "    except:\n",
    "        pass\n",
    "    \n",
    "    \n",
    "    \n",
    "\n"
   ]
  },
  {
   "cell_type": "code",
   "execution_count": 9,
   "metadata": {},
   "outputs": [
    {
     "name": "stdout",
     "output_type": "stream",
     "text": [
      "Mean= 0.21922509244921018 Sigma= 0.6581110807143677\n",
      "Mean= 0.8152897365000258 Sigma= 1.0321457417607793\n",
      "Mean= 0.29566148930700237 Sigma= 0.6928183501098665\n",
      "Mean= -0.7745473575511586 Sigma= 0.967294508458133\n",
      "Mean= 0.2341143504798483 Sigma= 1.3070632979022\n"
     ]
    },
    {
     "data": {
      "text/plain": [
       "Text(-2.6, 0.45, 'overpredicted')"
      ]
     },
     "execution_count": 9,
     "metadata": {},
     "output_type": "execute_result"
    },
    {
     "data": {
      "image/png": "[encoded data removed]",
      "text/plain": [
       "<Figure size 504x216 with 5 Axes>"
      ]
     },
     "metadata": {
      "needs_background": "light"
     },
     "output_type": "display_data"
    }
   ],
   "source": [
    "\n",
    "# keep only the players that we were able to construct predictions for\n",
    "goodsig = siglist[(np.sum(siglist,axis=1)>0.) & (np.nanmax(np.abs(siglist),axis=1)<7.)]\n",
    "\n",
    "fig = plt.figure(figsize=(7,3))\n",
    "\n",
    "PDict = {}\n",
    "for istat,stat in enumerate(stattest):\n",
    "\n",
    "    dx = 0.175\n",
    "    xstart = istat*(dx+0.01)+0.06\n",
    "    ax = fig.add_axes([xstart,0.2,dx,0.7])\n",
    "\n",
    "    a,b = np.histogram(goodsig[:,istat],bins=np.linspace(-7.,7.,18))\n",
    "\n",
    "    popt, pcov = curve_fit(gaussian,b[0:-1]+0.5*(b[1]-b[0]),a/np.sum(a))\n",
    "    print('Mean=',popt[1],'Sigma=',popt[2])\n",
    "\n",
    "    ax.plot(b[0:-1]+0.5*(b[1]-b[0]),a/np.sum(a),color='red',drawstyle='steps-mid')\n",
    "\n",
    "    xvals = np.linspace(b[0]+0.5*(b[1]-b[0]),b[-1]+0.5*(b[1]-b[0]),200)\n",
    "    ax.plot(xvals,gaussian(xvals,*popt),color='black')\n",
    "\n",
    "    ax.text(0.,0.55,'{0}\\n$\\mu$={1:3.2f}, $\\sigma=${2:3.2f}'.format(stat,popt[1],np.abs(popt[2])),\\\n",
    "            color='black',ha='center',va='bottom',bbox=dict(facecolor='white', alpha=1.0),size=8, fontproperties=prop)\n",
    "\n",
    "    if istat==2:\n",
    "        ax.set_xlabel('$\\sigma$ deviation',size=12, fontproperties=prop)\n",
    "        \n",
    "    if istat==0:\n",
    "        ax.set_ylabel('frequency',size=12, fontproperties=prop)\n",
    "    else:\n",
    "        ax.set_yticklabels(())\n",
    "        \n",
    "    ax.tick_params(axis=\"y\",which='both',direction=\"in\")\n",
    "    ax.tick_params(axis=\"x\",which='both',direction=\"in\",pad=5)\n",
    "    ax.yaxis.set_ticks_position('both')\n",
    "    ax.xaxis.set_ticks_position('both')\n",
    "\n",
    "    ax.axis([-6.,6.,0.,0.55])\n",
    "\n",
    "ax.arrow(0.,0.45,2.,0.,width=0.0005,head_width=0.01,head_length=0.5)\n",
    "ax.arrow(0.,0.45,-2.,0.,width=0.0005,head_width=0.01,head_length=0.5)\n",
    "ax.plot([0.,0.],[0.42,0.48],color='black')\n",
    "ax.text(2.6,0.45,'underpredicted',ha='left',va='center',size=8, fontproperties=prop)\n",
    "ax.text(-2.6,0.45,'overpredicted',ha='right',va='center',size=8, fontproperties=prop)\n",
    "\n",
    "\n"
   ]
  },
  {
   "cell_type": "markdown",
   "metadata": {},
   "source": [
    "## Part 2: Hitters"
   ]
  },
  {
   "cell_type": "code",
   "execution_count": 10,
   "metadata": {},
   "outputs": [],
   "source": [
    "# definitions to match the results\n",
    "\n",
    "def match_hitting_results(pl,RealStats,ProjectedStats,norm=True):\n",
    "    '''match the results from the hitting year, return sigmas\n",
    "    \n",
    "    certain categories must match in name...\n",
    "    '''\n",
    "    plr = np.where(RealStats['Name']==pl)[0][0]\n",
    "    plp = np.where(np.array([x.decode().rstrip() for x in ProjectedStats['Name']])==pl)[0][0]\n",
    "\n",
    "    compstats = ['AVG','HR','R','RBI','SB']\n",
    "    \n",
    "    sigmas = np.zeros(len(compstats))\n",
    "    \n",
    "    if norm:\n",
    "        for istat,stat in enumerate(compstats):\n",
    "            if stat =='AVG':\n",
    "                sigmas[istat] = (float(RealStats[stat][plr])-float(ProjectedStats[stat][plp]))/float(ProjectedStats['e'+stat][plp])\n",
    "            else:\n",
    "\n",
    "                sigmas[istat] = (float(RealStats[stat][plr])/float(RealStats['PA'][plr])\\\n",
    "                             -float(ProjectedStats[stat][plp])/float(ProjectedStats['PA'][plp]))\\\n",
    "            /(float(ProjectedStats['e'+stat][plp])/float(ProjectedStats['PA'][plp]))\n",
    "        \n",
    "        \n",
    "    else:\n",
    "        for istat,stat in enumerate(compstats):\n",
    "            sigmas[istat] = (float(RealStats[stat][plr])-float(ProjectedStats[stat][plp]))/float(ProjectedStats['e'+stat][plp])\n",
    "        \n",
    "        \n",
    "        \n",
    "    return sigmas\n",
    "    \n",
    "\n",
    "\n",
    "\n"
   ]
  },
  {
   "cell_type": "code",
   "execution_count": 11,
   "metadata": {},
   "outputs": [],
   "source": [
    "\n",
    "nplayers = len(BattingProjections2019['Name'])\n",
    "sigma_stats = np.zeros([nplayers,5])\n",
    "\n",
    "for pl in range(0,nplayers):\n",
    "\n",
    "    try:\n",
    "        sigmas = match_hitting_results(BattingProjections2019['Name'][pl].decode().rstrip(),Batting2019,BattingProjections2019)\n",
    "        sigma_stats[pl] = np.array(sigmas)\n",
    "    except:\n",
    "        #print('Failed for ',BattingProjections2019['Name'][pl].decode().rstrip())\n",
    "        sigma_stats[pl] = np.array([np.nan,np.nan,np.nan,np.nan,np.nan])\n"
   ]
  },
  {
   "cell_type": "code",
   "execution_count": 12,
   "metadata": {},
   "outputs": [
    {
     "name": "stdout",
     "output_type": "stream",
     "text": [
      "Mean= -0.2048679016009909 Sigma= 1.2595025425713275\n",
      "Mean= 0.8672107001570499 Sigma= 2.890291834684957\n",
      "Mean= 0.6800907829704115 Sigma= 2.8155494598715984\n",
      "Mean= 0.8576046168148783 Sigma= 2.800788585126059\n",
      "Mean= -0.5474152875994506 Sigma= 1.8822309311534993\n"
     ]
    },
    {
     "data": {
      "text/plain": [
       "Text(-2.6, 0.4, 'overpredicted')"
      ]
     },
     "execution_count": 12,
     "metadata": {},
     "output_type": "execute_result"
    },
    {
     "data": {
      "image/png": "[encoded data removed]",
      "text/plain": [
       "<Figure size 504x216 with 5 Axes>"
      ]
     },
     "metadata": {
      "needs_background": "light"
     },
     "output_type": "display_data"
    }
   ],
   "source": [
    "# how can we check the uncertainties?\n",
    "# check how many sigma off we are on average\n",
    "\n",
    "stats = ['AVG','HR','R','RBI','SB']\n",
    "\n",
    "\n",
    "\n",
    "\n",
    "fig = plt.figure(figsize=(7,3))\n",
    "\n",
    "PDict = {}\n",
    "for istat,stat in enumerate(stats):\n",
    "\n",
    "    dx = 0.175\n",
    "    xstart = istat*(dx+0.01)+0.06\n",
    "    ax = fig.add_axes([xstart,0.2,dx,0.7])\n",
    "\n",
    "    a,b = np.histogram(sigma_stats[:,istat],bins=np.linspace(-9.,9.,18))\n",
    "\n",
    "    popt, pcov = curve_fit(gaussian,b[0:-1]+0.5*(b[1]-b[0]),a/np.sum(a))\n",
    "    print('Mean=',popt[1],'Sigma=',popt[2])\n",
    "\n",
    "    ax.plot(b[0:-1]+0.5*(b[1]-b[0]),a/np.sum(a),color='red',drawstyle='steps-mid')\n",
    "\n",
    "    xvals = np.linspace(b[0]+0.5*(b[1]-b[0]),b[-1]+0.5*(b[1]-b[0]),200)\n",
    "    ax.plot(xvals,gaussian(xvals,*popt),color='black')\n",
    "\n",
    "    ax.text(0.,0.5,'{0}\\n$\\mu$={1:3.2f}, $\\sigma=${2:3.2f}'.format(stat,popt[1],popt[2]),\\\n",
    "            color='black',ha='center',va='bottom',bbox=dict(facecolor='white', alpha=1.0),size=8, fontproperties=prop)\n",
    "\n",
    "    if istat==2:\n",
    "        ax.set_xlabel('$\\sigma$ deviation',size=12, fontproperties=prop)\n",
    "        \n",
    "    if istat==0:\n",
    "        ax.set_ylabel('frequency',size=12, fontproperties=prop)\n",
    "    else:\n",
    "        ax.set_yticklabels(())\n",
    "        \n",
    "    ax.tick_params(axis=\"y\",which='both',direction=\"in\")\n",
    "    ax.tick_params(axis=\"x\",which='both',direction=\"in\",pad=5)\n",
    "    ax.yaxis.set_ticks_position('both')\n",
    "    ax.xaxis.set_ticks_position('both')\n",
    "\n",
    "    ax.axis([-6.,6.,0.,0.5])\n",
    "\n",
    "ax.arrow(0.,0.4,2.,0.,width=0.0005,head_width=0.01,head_length=0.5)\n",
    "ax.arrow(0.,0.4,-2.,0.,width=0.0005,head_width=0.01,head_length=0.5)\n",
    "ax.plot([0.,0.],[0.37,0.43],color='black')\n",
    "ax.text(2.6,0.4,'underpredicted',ha='left',va='center',size=8)\n",
    "ax.text(-2.6,0.4,'overpredicted',ha='right',va='center',size=8)\n",
    "\n",
    "\n",
    "#plt.savefig('/Users/mpetersen/Desktop/battingpredictions.png',dpi=300)"
   ]
  },
  {
   "cell_type": "code",
   "execution_count": null,
   "metadata": {},
   "outputs": [],
   "source": []
  }
 ],
 "metadata": {
  "kernelspec": {
   "display_name": "Python 3",
   "language": "python",
   "name": "python3"
  },
  "language_info": {
   "codemirror_mode": {
    "name": "ipython",
    "version": 3
   },
   "file_extension": ".py",
   "mimetype": "text/x-python",
   "name": "python",
   "nbconvert_exporter": "python",
   "pygments_lexer": "ipython3",
   "version": "3.6.8"
  }
 },
 "nbformat": 4,
 "nbformat_minor": 2
}
