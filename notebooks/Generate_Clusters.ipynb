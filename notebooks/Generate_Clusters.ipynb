{
 "cells": [
  {
   "cell_type": "markdown",
   "metadata": {},
   "source": [
    "# Generate Clusters"
   ]
  },
  {
   "cell_type": "code",
   "execution_count": 1,
   "metadata": {},
   "outputs": [],
   "source": [
    "# standard imports\n",
    "import numpy as np\n",
    "import os\n",
    "\n",
    "# plotting tools\n",
    "import matplotlib.pyplot as plt\n",
    "%matplotlib inline\n",
    "\n",
    "# data management\n",
    "import pandas as pd\n"
   ]
  },
  {
   "cell_type": "markdown",
   "metadata": {},
   "source": [
    "## Part 1: Hitters"
   ]
  },
  {
   "cell_type": "code",
   "execution_count": 2,
   "metadata": {},
   "outputs": [],
   "source": [
    "import hittingpredictor as hp"
   ]
  },
  {
   "cell_type": "code",
   "execution_count": 3,
   "metadata": {},
   "outputs": [],
   "source": [
    "\n",
    "# which years are we interested in querying?\n",
    "years = range(2019-3, 2019+1)\n",
    "\n",
    "\n",
    "year_dfs = []\n",
    "\n",
    "for year in years:\n",
    "\n",
    "    df = hp.scrape_year(year=year,cat='bat',verbose=0)\n",
    "    year_dfs.append(df)\n",
    "\n",
    "# concatenate results from all years\n",
    "all_year_data = year_dfs[0]\n",
    "for year in year_dfs[1:]:\n",
    "    all_year_data = pd.concat([all_year_data, year])\n",
    "    \n",
    "\n"
   ]
  },
  {
   "cell_type": "code",
   "execution_count": 4,
   "metadata": {},
   "outputs": [],
   "source": [
    "nclusters = 12\n",
    "\n",
    "year_df,df,stereotype_df,hitter_cluster_centroid_df = hp.compute_cluster(all_year_data,years,nclusters,min_pas=150,verbose=0)\n",
    "\n"
   ]
  },
  {
   "cell_type": "code",
   "execution_count": 5,
   "metadata": {},
   "outputs": [],
   "source": [
    "# this cell is where the magic happens:\n",
    "# choose all the prefactors\n",
    "\n",
    "# weights to consider for each year\n",
    "year_weights = {}\n",
    "year_weights[2016.0] = 0.075\n",
    "year_weights[2017.0] = 0.075\n",
    "year_weights[2018.0] = 0.35\n",
    "year_weights[2019.0] = 0.5\n",
    "\n",
    "# penalty if missing\n",
    "year_weights_penalty = {}\n",
    "year_weights_penalty[2016.0] = 0.00\n",
    "year_weights_penalty[2017.0] = 0.00\n",
    "year_weights_penalty[2018.0] = 0.05\n",
    "year_weights_penalty[2019.0] = 0.05\n",
    "\n",
    "# how aggresively to bring players back to the cluster center\n",
    "regression_factor = 0.65\n",
    "err_regression_factor = 1.2\n",
    "\n"
   ]
  },
  {
   "cell_type": "code",
   "execution_count": 6,
   "metadata": {},
   "outputs": [
    {
     "name": "stdout",
     "output_type": "stream",
     "text": [
      "Player, HR, eHR, H, eH, AB, eAB, SB, eSB, RBI, eRBI, R, eR, PA, Adj\n",
      "Christian Yelich, 33.13, 15.01, 126.97, 10.24, 517.86, 12.95, 19.21, 17.34, 92.26, 18.39, 97.93, 12.96, 600, 1.0, \n"
     ]
    }
   ],
   "source": [
    "\n",
    "# if you'd like to do them all...\n",
    "arr = np.array(list(df['Name']))\n",
    "pls = np.unique(arr)\n",
    "\n",
    "pls = ['Christian Yelich']\n",
    "\n",
    "print('Player, HR, eHR, H, eH, AB, eAB, SB, eSB, RBI, eRBI, R, eR, PA, Adj')\n",
    "\n",
    "for pl in pls:\n",
    "    hp.generate_player_prediction(pl,df,hitter_cluster_centroid_df,\\\n",
    "                               estimated_pas=600,\\\n",
    "                               year_weights=year_weights,\\\n",
    "                               year_weights_penalty=year_weights_penalty,\\\n",
    "                               regression_factor=regression_factor,err_regression_factor=err_regression_factor,\\\n",
    "                               AgeDict={},verbose=0)\n",
    "\n",
    "    "
   ]
  },
  {
   "cell_type": "code",
   "execution_count": null,
   "metadata": {},
   "outputs": [],
   "source": []
  },
  {
   "cell_type": "code",
   "execution_count": null,
   "metadata": {},
   "outputs": [],
   "source": []
  }
 ],
 "metadata": {
  "kernelspec": {
   "display_name": "Python 3",
   "language": "python",
   "name": "python3"
  },
  "language_info": {
   "codemirror_mode": {
    "name": "ipython",
    "version": 3
   },
   "file_extension": ".py",
   "mimetype": "text/x-python",
   "name": "python",
   "nbconvert_exporter": "python",
   "pygments_lexer": "ipython3",
   "version": "3.6.8"
  }
 },
 "nbformat": 4,
 "nbformat_minor": 2
}
